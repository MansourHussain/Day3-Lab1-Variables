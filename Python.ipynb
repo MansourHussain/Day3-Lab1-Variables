{
 "cells": [
  {
   "cell_type": "code",
   "execution_count": 6,
   "id": "5ffc3077",
   "metadata": {},
   "outputs": [],
   "source": [
    "season = 'winter'\n",
    "x = 10\n",
    "y = 9.5\n"
   ]
  },
  {
   "cell_type": "code",
   "execution_count": 7,
   "id": "1eda6772",
   "metadata": {},
   "outputs": [],
   "source": [
    "x = y = z = 'Hello'"
   ]
  },
  {
   "cell_type": "code",
   "execution_count": 8,
   "id": "f8f2ec22",
   "metadata": {},
   "outputs": [],
   "source": [
    "x , y , z = 'orange' , 'red', 'blue';"
   ]
  },
  {
   "cell_type": "code",
   "execution_count": null,
   "id": "e8c17278",
   "metadata": {},
   "outputs": [],
   "source": []
  }
 ],
 "metadata": {
  "kernelspec": {
   "display_name": "Python 3",
   "language": "python",
   "name": "python3"
  },
  "language_info": {
   "codemirror_mode": {
    "name": "ipython",
    "version": 3
   },
   "file_extension": ".py",
   "mimetype": "text/x-python",
   "name": "python",
   "nbconvert_exporter": "python",
   "pygments_lexer": "ipython3",
   "version": "3.9.6"
  }
 },
 "nbformat": 4,
 "nbformat_minor": 5
}
